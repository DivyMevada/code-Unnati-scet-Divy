{
 "cells": [
  {
   "cell_type": "markdown",
   "id": "2bdc6875",
   "metadata": {},
   "source": [
    "# Basic math opperation"
   ]
  },
  {
   "cell_type": "code",
   "execution_count": null,
   "id": "5a738157",
   "metadata": {},
   "outputs": [],
   "source": [
    "23+35"
   ]
  },
  {
   "cell_type": "code",
   "execution_count": null,
   "id": "0b713ddc",
   "metadata": {},
   "outputs": [],
   "source": [
    "45*8"
   ]
  },
  {
   "cell_type": "code",
   "execution_count": null,
   "id": "90d09d37",
   "metadata": {},
   "outputs": [],
   "source": [
    "2**2"
   ]
  },
  {
   "cell_type": "code",
   "execution_count": null,
   "id": "b6e0b7a7",
   "metadata": {},
   "outputs": [],
   "source": [
    "89-20"
   ]
  },
  {
   "cell_type": "code",
   "execution_count": null,
   "id": "f18d7dc3",
   "metadata": {},
   "outputs": [],
   "source": [
    "39/9"
   ]
  },
  {
   "cell_type": "code",
   "execution_count": null,
   "id": "52b8e132",
   "metadata": {},
   "outputs": [],
   "source": [
    "25+(29-2)+(35-256)+(69/420)*(77**2)"
   ]
  },
  {
   "cell_type": "code",
   "execution_count": null,
   "id": "67153c83",
   "metadata": {},
   "outputs": [],
   "source": [
    "[66-{55*(23/13)}]"
   ]
  },
  {
   "cell_type": "code",
   "execution_count": null,
   "id": "6367d2b7",
   "metadata": {},
   "outputs": [],
   "source": [
    "{66-[55*(23/13)]}"
   ]
  },
  {
   "cell_type": "code",
   "execution_count": 1,
   "id": "856186f8",
   "metadata": {},
   "outputs": [
    {
     "name": "stdout",
     "output_type": "stream",
     "text": [
      "Hello Buddy\n"
     ]
    }
   ],
   "source": [
    "#my firs python program\n",
    "print(\"Hello Buddy\")"
   ]
  },
  {
   "cell_type": "markdown",
   "id": "54eed529",
   "metadata": {},
   "source": [
    "# Variable"
   ]
  },
  {
   "cell_type": "code",
   "execution_count": 11,
   "id": "71544a1c",
   "metadata": {},
   "outputs": [],
   "source": [
    "a=23\n",
    "b=32\n",
    "c=5.343"
   ]
  },
  {
   "cell_type": "code",
   "execution_count": 12,
   "id": "1285bcd5",
   "metadata": {},
   "outputs": [
    {
     "data": {
      "text/plain": [
       "23"
      ]
     },
     "execution_count": 12,
     "metadata": {},
     "output_type": "execute_result"
    }
   ],
   "source": [
    "a"
   ]
  },
  {
   "cell_type": "code",
   "execution_count": 13,
   "id": "e5e4f5d7",
   "metadata": {},
   "outputs": [
    {
     "data": {
      "text/plain": [
       "32"
      ]
     },
     "execution_count": 13,
     "metadata": {},
     "output_type": "execute_result"
    }
   ],
   "source": [
    "b"
   ]
  },
  {
   "cell_type": "code",
   "execution_count": 14,
   "id": "3289457f",
   "metadata": {},
   "outputs": [
    {
     "name": "stdout",
     "output_type": "stream",
     "text": [
      "23\n"
     ]
    }
   ],
   "source": [
    "print(a)"
   ]
  },
  {
   "cell_type": "code",
   "execution_count": 15,
   "id": "523dc7c0",
   "metadata": {},
   "outputs": [
    {
     "data": {
      "text/plain": [
       "int"
      ]
     },
     "execution_count": 15,
     "metadata": {},
     "output_type": "execute_result"
    }
   ],
   "source": [
    "type(b)"
   ]
  },
  {
   "cell_type": "code",
   "execution_count": 16,
   "id": "0dbbf7fe",
   "metadata": {},
   "outputs": [
    {
     "data": {
      "text/plain": [
       "float"
      ]
     },
     "execution_count": 16,
     "metadata": {},
     "output_type": "execute_result"
    }
   ],
   "source": [
    "type(c)"
   ]
  },
  {
   "cell_type": "code",
   "execution_count": 7,
   "id": "f222bc22",
   "metadata": {},
   "outputs": [],
   "source": [
    "d=\"Mast\""
   ]
  },
  {
   "cell_type": "code",
   "execution_count": 8,
   "id": "029d8a68",
   "metadata": {},
   "outputs": [
    {
     "data": {
      "text/plain": [
       "'Mast'"
      ]
     },
     "execution_count": 8,
     "metadata": {},
     "output_type": "execute_result"
    }
   ],
   "source": [
    "d"
   ]
  },
  {
   "cell_type": "code",
   "execution_count": 9,
   "id": "4b801116",
   "metadata": {},
   "outputs": [
    {
     "data": {
      "text/plain": [
       "str"
      ]
     },
     "execution_count": 9,
     "metadata": {},
     "output_type": "execute_result"
    }
   ],
   "source": [
    "type(d)"
   ]
  },
  {
   "cell_type": "code",
   "execution_count": 4,
   "id": "b8b4ee07",
   "metadata": {},
   "outputs": [],
   "source": [
    "f=True"
   ]
  },
  {
   "cell_type": "code",
   "execution_count": 5,
   "id": "5eee30ff",
   "metadata": {},
   "outputs": [
    {
     "data": {
      "text/plain": [
       "True"
      ]
     },
     "execution_count": 5,
     "metadata": {},
     "output_type": "execute_result"
    }
   ],
   "source": [
    "f"
   ]
  },
  {
   "cell_type": "code",
   "execution_count": 6,
   "id": "2624338c",
   "metadata": {},
   "outputs": [
    {
     "data": {
      "text/plain": [
       "bool"
      ]
     },
     "execution_count": 6,
     "metadata": {},
     "output_type": "execute_result"
    }
   ],
   "source": [
    "type(f)"
   ]
  },
  {
   "cell_type": "markdown",
   "id": "89d3e477",
   "metadata": {},
   "source": [
    "# Math Operation on Variables"
   ]
  },
  {
   "cell_type": "code",
   "execution_count": null,
   "id": "75f6a930",
   "metadata": {},
   "outputs": [],
   "source": [
    "a=23\n",
    "b=-25\n",
    "c=54.6969\n",
    "d=2"
   ]
  },
  {
   "cell_type": "code",
   "execution_count": null,
   "id": "fa3062c3",
   "metadata": {},
   "outputs": [],
   "source": [
    "a+b+c"
   ]
  },
  {
   "cell_type": "code",
   "execution_count": null,
   "id": "e5f0ab7e",
   "metadata": {},
   "outputs": [],
   "source": [
    "a/b*c"
   ]
  },
  {
   "cell_type": "code",
   "execution_count": null,
   "id": "51111e1f",
   "metadata": {},
   "outputs": [],
   "source": [
    "a**b"
   ]
  },
  {
   "cell_type": "code",
   "execution_count": null,
   "id": "486fa7bf",
   "metadata": {},
   "outputs": [],
   "source": [
    "c-d"
   ]
  },
  {
   "cell_type": "code",
   "execution_count": null,
   "id": "96aacf07",
   "metadata": {},
   "outputs": [],
   "source": [
    "c/b"
   ]
  },
  {
   "cell_type": "markdown",
   "id": "f38210ae",
   "metadata": {},
   "source": [
    "# Use input keyword to take input from user"
   ]
  },
  {
   "cell_type": "code",
   "execution_count": 1,
   "id": "5b2f4592",
   "metadata": {},
   "outputs": [
    {
     "name": "stdout",
     "output_type": "stream",
     "text": [
      "Enter the value of x : 4\n",
      "Enter the value of y : 7\n",
      "16384\n"
     ]
    }
   ],
   "source": [
    "x = int(input(\"Enter the value of x : \"))\n",
    "y = int(input(\"Enter the value of y : \"))\n",
    "z = x**y #power of x,y\n",
    "print(z)"
   ]
  },
  {
   "cell_type": "markdown",
   "id": "01df3d6e",
   "metadata": {},
   "source": [
    "# String Concatenation"
   ]
  },
  {
   "cell_type": "code",
   "execution_count": 9,
   "id": "77f507e4",
   "metadata": {},
   "outputs": [],
   "source": [
    "str1=\"Divy\"\n",
    "str2=\"Mevada\"\n",
    "str3=\" \""
   ]
  },
  {
   "cell_type": "code",
   "execution_count": 10,
   "id": "e9a58e90",
   "metadata": {},
   "outputs": [
    {
     "data": {
      "text/plain": [
       "'Divy'"
      ]
     },
     "execution_count": 10,
     "metadata": {},
     "output_type": "execute_result"
    }
   ],
   "source": [
    "str1"
   ]
  },
  {
   "cell_type": "code",
   "execution_count": 11,
   "id": "dd3dd0f3",
   "metadata": {},
   "outputs": [
    {
     "data": {
      "text/plain": [
       "'Mevada'"
      ]
     },
     "execution_count": 11,
     "metadata": {},
     "output_type": "execute_result"
    }
   ],
   "source": [
    "str2"
   ]
  },
  {
   "cell_type": "code",
   "execution_count": 12,
   "id": "95959d91",
   "metadata": {},
   "outputs": [
    {
     "data": {
      "text/plain": [
       "str"
      ]
     },
     "execution_count": 12,
     "metadata": {},
     "output_type": "execute_result"
    }
   ],
   "source": [
    "type(str1)"
   ]
  },
  {
   "cell_type": "code",
   "execution_count": 13,
   "id": "dc573475",
   "metadata": {},
   "outputs": [
    {
     "name": "stdout",
     "output_type": "stream",
     "text": [
      "Divy Mevada\n"
     ]
    }
   ],
   "source": [
    "str4 = str1 + str3 + str2\n",
    "print(str4)"
   ]
  },
  {
   "cell_type": "code",
   "execution_count": 14,
   "id": "39a0acbd",
   "metadata": {},
   "outputs": [
    {
     "name": "stdout",
     "output_type": "stream",
     "text": [
      "Divy Mevada\n"
     ]
    }
   ],
   "source": [
    "str5 = str1 + \" \" + str2\n",
    "print(str5)"
   ]
  },
  {
   "cell_type": "code",
   "execution_count": 15,
   "id": "bf7b6036",
   "metadata": {},
   "outputs": [
    {
     "data": {
      "text/plain": [
       "' '"
      ]
     },
     "execution_count": 15,
     "metadata": {},
     "output_type": "execute_result"
    }
   ],
   "source": [
    "#string slicing\n",
    "str5[4]"
   ]
  },
  {
   "cell_type": "code",
   "execution_count": 16,
   "id": "e64ecdd4",
   "metadata": {},
   "outputs": [
    {
     "data": {
      "text/plain": [
       "'y'"
      ]
     },
     "execution_count": 16,
     "metadata": {},
     "output_type": "execute_result"
    }
   ],
   "source": [
    "str5[3]"
   ]
  },
  {
   "cell_type": "code",
   "execution_count": 17,
   "id": "1b4e8fb7",
   "metadata": {},
   "outputs": [
    {
     "data": {
      "text/plain": [
       "'Divy'"
      ]
     },
     "execution_count": 17,
     "metadata": {},
     "output_type": "execute_result"
    }
   ],
   "source": [
    "str5[0:4]"
   ]
  },
  {
   "cell_type": "code",
   "execution_count": 18,
   "id": "d400a657",
   "metadata": {},
   "outputs": [
    {
     "data": {
      "text/plain": [
       "'Divy'"
      ]
     },
     "execution_count": 18,
     "metadata": {},
     "output_type": "execute_result"
    }
   ],
   "source": [
    "str5[:4]"
   ]
  },
  {
   "cell_type": "code",
   "execution_count": 19,
   "id": "b4b83582",
   "metadata": {},
   "outputs": [
    {
     "data": {
      "text/plain": [
       "''"
      ]
     },
     "execution_count": 19,
     "metadata": {},
     "output_type": "execute_result"
    }
   ],
   "source": [
    "str5[-3:5]"
   ]
  },
  {
   "cell_type": "code",
   "execution_count": 23,
   "id": "227fa640",
   "metadata": {},
   "outputs": [
    {
     "data": {
      "text/plain": [
       "'ada'"
      ]
     },
     "execution_count": 23,
     "metadata": {},
     "output_type": "execute_result"
    }
   ],
   "source": [
    "str5[-3:]"
   ]
  },
  {
   "cell_type": "code",
   "execution_count": 22,
   "id": "88f02721",
   "metadata": {},
   "outputs": [
    {
     "data": {
      "text/plain": [
       "'evada'"
      ]
     },
     "execution_count": 22,
     "metadata": {},
     "output_type": "execute_result"
    }
   ],
   "source": [
    "str5[-5:]"
   ]
  },
  {
   "cell_type": "code",
   "execution_count": 24,
   "id": "8b99549c",
   "metadata": {},
   "outputs": [
    {
     "data": {
      "text/plain": [
       "' Mevada'"
      ]
     },
     "execution_count": 24,
     "metadata": {},
     "output_type": "execute_result"
    }
   ],
   "source": [
    "str5[-7:]"
   ]
  },
  {
   "cell_type": "markdown",
   "id": "5eaf2ceb",
   "metadata": {},
   "source": [
    "# Tuples in Python"
   ]
  },
  {
   "cell_type": "code",
   "execution_count": 32,
   "id": "652da329",
   "metadata": {},
   "outputs": [],
   "source": [
    "tup1 = (\"Divy\", 23, \"Mevada\", 21, \"Mast\", 100)\n",
    "tup2 = (\"Electrical\", \"1st\")"
   ]
  },
  {
   "cell_type": "code",
   "execution_count": 26,
   "id": "d6427829",
   "metadata": {},
   "outputs": [
    {
     "data": {
      "text/plain": [
       "('Divy', 23, 'Mevada', 21, 'Mast', 100)"
      ]
     },
     "execution_count": 26,
     "metadata": {},
     "output_type": "execute_result"
    }
   ],
   "source": [
    "tup1"
   ]
  },
  {
   "cell_type": "code",
   "execution_count": 27,
   "id": "fc5a9351",
   "metadata": {},
   "outputs": [
    {
     "data": {
      "text/plain": [
       "tuple"
      ]
     },
     "execution_count": 27,
     "metadata": {},
     "output_type": "execute_result"
    }
   ],
   "source": [
    "type(tup1)"
   ]
  },
  {
   "cell_type": "code",
   "execution_count": 28,
   "id": "08b8a0f1",
   "metadata": {},
   "outputs": [
    {
     "data": {
      "text/plain": [
       "'Mast'"
      ]
     },
     "execution_count": 28,
     "metadata": {},
     "output_type": "execute_result"
    }
   ],
   "source": [
    "tup1[4]"
   ]
  },
  {
   "cell_type": "code",
   "execution_count": 31,
   "id": "75d05f79",
   "metadata": {},
   "outputs": [
    {
     "data": {
      "text/plain": [
       "('Divy', 23, 'Mevada', 21)"
      ]
     },
     "execution_count": 31,
     "metadata": {},
     "output_type": "execute_result"
    }
   ],
   "source": [
    "tup1[0:4]"
   ]
  },
  {
   "cell_type": "code",
   "execution_count": 33,
   "id": "ddb13845",
   "metadata": {},
   "outputs": [],
   "source": [
    "tup3= tup1 + tup2"
   ]
  },
  {
   "cell_type": "code",
   "execution_count": 34,
   "id": "b5f9df9b",
   "metadata": {},
   "outputs": [
    {
     "data": {
      "text/plain": [
       "('Divy', 23, 'Mevada', 21, 'Mast', 100, 'Electrical', '1st')"
      ]
     },
     "execution_count": 34,
     "metadata": {},
     "output_type": "execute_result"
    }
   ],
   "source": [
    "tup3"
   ]
  },
  {
   "cell_type": "code",
   "execution_count": 36,
   "id": "2607c538",
   "metadata": {},
   "outputs": [
    {
     "data": {
      "text/plain": [
       "8"
      ]
     },
     "execution_count": 36,
     "metadata": {},
     "output_type": "execute_result"
    }
   ],
   "source": [
    "len(tup3)"
   ]
  },
  {
   "cell_type": "code",
   "execution_count": 37,
   "id": "7cf3c84f",
   "metadata": {},
   "outputs": [
    {
     "ename": "TypeError",
     "evalue": "'tuple' object doesn't support item deletion",
     "output_type": "error",
     "traceback": [
      "\u001b[1;31m---------------------------------------------------------------------------\u001b[0m",
      "\u001b[1;31mTypeError\u001b[0m                                 Traceback (most recent call last)",
      "Input \u001b[1;32mIn [37]\u001b[0m, in \u001b[0;36m<cell line: 3>\u001b[1;34m()\u001b[0m\n\u001b[0;32m      1\u001b[0m \u001b[38;5;66;03m#immutable\u001b[39;00m\n\u001b[1;32m----> 3\u001b[0m \u001b[38;5;28;01mdel\u001b[39;00m tup3[\u001b[38;5;241m3\u001b[39m]\n\u001b[0;32m      4\u001b[0m \u001b[38;5;28mprint\u001b[39m(tup3)\n",
      "\u001b[1;31mTypeError\u001b[0m: 'tuple' object doesn't support item deletion"
     ]
    }
   ],
   "source": [
    "#immutable\n",
    "\n",
    "del tup3[3]\n",
    "print(tup3)"
   ]
  },
  {
   "cell_type": "markdown",
   "id": "a4638aca",
   "metadata": {},
   "source": [
    "# List in Python"
   ]
  },
  {
   "cell_type": "code",
   "execution_count": 38,
   "id": "6bf043e0",
   "metadata": {},
   "outputs": [],
   "source": [
    "lst1 = [\"Divy\", 23, \"Mevada\", 21, \"Mast\", 100]\n",
    "lst2 = [\"Electrical\", \"1st\"]"
   ]
  },
  {
   "cell_type": "code",
   "execution_count": 39,
   "id": "8ae66732",
   "metadata": {},
   "outputs": [
    {
     "data": {
      "text/plain": [
       "['Divy', 23, 'Mevada', 21, 'Mast', 100]"
      ]
     },
     "execution_count": 39,
     "metadata": {},
     "output_type": "execute_result"
    }
   ],
   "source": [
    "lst1"
   ]
  },
  {
   "cell_type": "code",
   "execution_count": 43,
   "id": "0e068d04",
   "metadata": {},
   "outputs": [],
   "source": [
    "lst1.remove(21)"
   ]
  },
  {
   "cell_type": "code",
   "execution_count": 44,
   "id": "3a418a5f",
   "metadata": {},
   "outputs": [
    {
     "data": {
      "text/plain": [
       "['Divy', 23, 'Mevada', 'Mast', 100]"
      ]
     },
     "execution_count": 44,
     "metadata": {},
     "output_type": "execute_result"
    }
   ],
   "source": [
    "lst1"
   ]
  },
  {
   "cell_type": "markdown",
   "id": "8557bbf7",
   "metadata": {},
   "source": [
    "# Disctionary"
   ]
  },
  {
   "cell_type": "code",
   "execution_count": 45,
   "id": "d8505d9b",
   "metadata": {},
   "outputs": [],
   "source": [
    "dict1 = {'University': 'GTU', 'Course': 'Electrical', 'Subject': 'AME'}"
   ]
  },
  {
   "cell_type": "code",
   "execution_count": 46,
   "id": "f14b6a3c",
   "metadata": {},
   "outputs": [
    {
     "data": {
      "text/plain": [
       "dict"
      ]
     },
     "execution_count": 46,
     "metadata": {},
     "output_type": "execute_result"
    }
   ],
   "source": [
    "type(dict1)"
   ]
  },
  {
   "cell_type": "code",
   "execution_count": 48,
   "id": "20a72f5c",
   "metadata": {},
   "outputs": [
    {
     "name": "stdout",
     "output_type": "stream",
     "text": [
      "dict_keys(['University', 'Course', 'Subject'])\n"
     ]
    }
   ],
   "source": [
    "#print only key values\n",
    "print(dict1.keys())"
   ]
  },
  {
   "cell_type": "code",
   "execution_count": 49,
   "id": "ffec0c92",
   "metadata": {},
   "outputs": [
    {
     "name": "stdout",
     "output_type": "stream",
     "text": [
      "dict_values(['GTU', 'Electrical', 'AME'])\n"
     ]
    }
   ],
   "source": [
    "print(dict1.values())"
   ]
  },
  {
   "cell_type": "code",
   "execution_count": 50,
   "id": "4b681e72",
   "metadata": {},
   "outputs": [],
   "source": [
    "from math import pi"
   ]
  },
  {
   "cell_type": "code",
   "execution_count": 51,
   "id": "243614ad",
   "metadata": {},
   "outputs": [
    {
     "data": {
      "text/plain": [
       "3.141592653589793"
      ]
     },
     "execution_count": 51,
     "metadata": {},
     "output_type": "execute_result"
    }
   ],
   "source": [
    "pi"
   ]
  },
  {
   "cell_type": "code",
   "execution_count": 52,
   "id": "7db1666f",
   "metadata": {},
   "outputs": [
    {
     "data": {
      "text/plain": [
       "12.566370614359172"
      ]
     },
     "execution_count": 52,
     "metadata": {},
     "output_type": "execute_result"
    }
   ],
   "source": [
    "#Area of circle\n",
    "r=2\n",
    "area = pi*(r**2)\n",
    "area"
   ]
  },
  {
   "cell_type": "code",
   "execution_count": 53,
   "id": "ef3e6a3d",
   "metadata": {},
   "outputs": [
    {
     "name": "stdout",
     "output_type": "stream",
     "text": [
      "0\n",
      "1\n",
      "2\n",
      "3\n",
      "4\n",
      "5\n",
      "6\n",
      "7\n",
      "8\n",
      "9\n"
     ]
    }
   ],
   "source": [
    "for i in range(10):\n",
    "    print(i)"
   ]
  },
  {
   "cell_type": "code",
   "execution_count": 54,
   "id": "e14f7bc1",
   "metadata": {},
   "outputs": [
    {
     "name": "stdout",
     "output_type": "stream",
     "text": [
      "0\n",
      "1\n",
      "2\n",
      "3\n",
      "4\n",
      "5\n",
      "6\n",
      "7\n",
      "8\n",
      "9\n",
      "10\n",
      "11\n",
      "12\n",
      "13\n",
      "14\n",
      "15\n",
      "16\n",
      "17\n",
      "18\n",
      "19\n",
      "20\n",
      "21\n",
      "22\n",
      "23\n",
      "24\n",
      "25\n",
      "26\n",
      "27\n",
      "28\n",
      "29\n",
      "30\n",
      "31\n",
      "32\n",
      "33\n",
      "34\n",
      "35\n",
      "36\n",
      "37\n",
      "38\n",
      "39\n",
      "40\n",
      "41\n",
      "42\n",
      "43\n",
      "44\n",
      "45\n",
      "46\n",
      "47\n",
      "48\n",
      "49\n",
      "50\n",
      "51\n",
      "52\n",
      "53\n",
      "54\n",
      "55\n",
      "56\n",
      "57\n",
      "58\n",
      "59\n",
      "60\n",
      "61\n",
      "62\n",
      "63\n",
      "64\n",
      "65\n",
      "66\n",
      "67\n",
      "68\n",
      "69\n",
      "70\n",
      "71\n",
      "72\n",
      "73\n",
      "74\n",
      "75\n",
      "76\n",
      "77\n",
      "78\n",
      "79\n",
      "80\n",
      "81\n",
      "82\n",
      "83\n",
      "84\n",
      "85\n",
      "86\n",
      "87\n",
      "88\n",
      "89\n",
      "90\n",
      "91\n",
      "92\n",
      "93\n",
      "94\n",
      "95\n",
      "96\n",
      "97\n",
      "98\n",
      "99\n",
      "100\n",
      "101\n",
      "102\n",
      "103\n",
      "104\n",
      "105\n",
      "106\n",
      "107\n",
      "108\n",
      "109\n",
      "110\n",
      "111\n",
      "112\n",
      "113\n",
      "114\n",
      "115\n",
      "116\n",
      "117\n",
      "118\n",
      "119\n",
      "120\n",
      "121\n",
      "122\n",
      "123\n",
      "124\n",
      "125\n",
      "126\n",
      "127\n",
      "128\n",
      "129\n",
      "130\n",
      "131\n",
      "132\n",
      "133\n",
      "134\n",
      "135\n",
      "136\n",
      "137\n",
      "138\n",
      "139\n",
      "140\n",
      "141\n",
      "142\n",
      "143\n",
      "144\n",
      "145\n",
      "146\n",
      "147\n",
      "148\n",
      "149\n",
      "150\n",
      "151\n",
      "152\n",
      "153\n",
      "154\n",
      "155\n",
      "156\n",
      "157\n",
      "158\n",
      "159\n",
      "160\n",
      "161\n",
      "162\n",
      "163\n",
      "164\n",
      "165\n",
      "166\n",
      "167\n",
      "168\n",
      "169\n",
      "170\n",
      "171\n",
      "172\n",
      "173\n",
      "174\n",
      "175\n",
      "176\n",
      "177\n",
      "178\n",
      "179\n",
      "180\n",
      "181\n",
      "182\n",
      "183\n",
      "184\n",
      "185\n",
      "186\n",
      "187\n",
      "188\n",
      "189\n",
      "190\n",
      "191\n",
      "192\n",
      "193\n",
      "194\n",
      "195\n",
      "196\n",
      "197\n",
      "198\n",
      "199\n",
      "200\n",
      "201\n",
      "202\n",
      "203\n",
      "204\n",
      "205\n",
      "206\n",
      "207\n",
      "208\n",
      "209\n",
      "210\n",
      "211\n",
      "212\n",
      "213\n",
      "214\n",
      "215\n",
      "216\n",
      "217\n",
      "218\n",
      "219\n",
      "220\n",
      "221\n",
      "222\n",
      "223\n",
      "224\n",
      "225\n",
      "226\n",
      "227\n",
      "228\n",
      "229\n"
     ]
    }
   ],
   "source": [
    "for d in range(230):\n",
    "    print(d)"
   ]
  },
  {
   "cell_type": "markdown",
   "id": "e591e894",
   "metadata": {},
   "source": [
    "# Python Conditional Statement"
   ]
  },
  {
   "cell_type": "code",
   "execution_count": 56,
   "id": "4af51d6a",
   "metadata": {},
   "outputs": [
    {
     "name": "stdout",
     "output_type": "stream",
     "text": [
      "7 is a Positive Number\n"
     ]
    }
   ],
   "source": [
    "#if statement\n",
    "\n",
    "num= 7\n",
    "if num > 0:\n",
    "    print(num, \"is a Positive Number\")"
   ]
  },
  {
   "cell_type": "code",
   "execution_count": 57,
   "id": "14e89a07",
   "metadata": {},
   "outputs": [
    {
     "name": "stdout",
     "output_type": "stream",
     "text": [
      "Negative Number\n"
     ]
    }
   ],
   "source": [
    "#if else statement\n",
    "\n",
    "num= 0\n",
    "if num > 0:\n",
    "    print(num, \"is a Positive Number\")\n",
    "else:\n",
    "    print(\"Negative Number\")"
   ]
  },
  {
   "cell_type": "code",
   "execution_count": 59,
   "id": "688d06d8",
   "metadata": {},
   "outputs": [
    {
     "name": "stdout",
     "output_type": "stream",
     "text": [
      "ZERO\n"
     ]
    }
   ],
   "source": [
    "#nested if\n",
    "\n",
    "num= 0\n",
    "if num >= 0:\n",
    "    if num == 0:\n",
    "        print(\"ZERO\")\n",
    "    else:\n",
    "        print(\"Positive Number\")\n",
    "else:\n",
    "    print(\"Negative Number\")"
   ]
  },
  {
   "cell_type": "code",
   "execution_count": null,
   "id": "1a3c3447",
   "metadata": {},
   "outputs": [],
   "source": []
  }
 ],
 "metadata": {
  "kernelspec": {
   "display_name": "Python 3 (ipykernel)",
   "language": "python",
   "name": "python3"
  },
  "language_info": {
   "codemirror_mode": {
    "name": "ipython",
    "version": 3
   },
   "file_extension": ".py",
   "mimetype": "text/x-python",
   "name": "python",
   "nbconvert_exporter": "python",
   "pygments_lexer": "ipython3",
   "version": "3.9.12"
  }
 },
 "nbformat": 4,
 "nbformat_minor": 5
}
