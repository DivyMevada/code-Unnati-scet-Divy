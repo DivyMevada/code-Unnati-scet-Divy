{
 "cells": [
  {
   "cell_type": "markdown",
   "id": "88e4f47f",
   "metadata": {},
   "source": [
    "# Numpy"
   ]
  },
  {
   "cell_type": "code",
   "execution_count": 11,
   "id": "f1595a02",
   "metadata": {},
   "outputs": [],
   "source": [
    "#import Numpy Library\n",
    "\n",
    "import numpy as np\n",
    "from numpy import random"
   ]
  },
  {
   "cell_type": "code",
   "execution_count": 4,
   "id": "d58398d7",
   "metadata": {},
   "outputs": [
    {
     "data": {
      "text/plain": [
       "array([[   1,   22,  333, 4444],\n",
       "       [  54,   65,   76,   87]])"
      ]
     },
     "execution_count": 4,
     "metadata": {},
     "output_type": "execute_result"
    }
   ],
   "source": [
    "#create simple array from the list\n",
    "\n",
    "arr = np.array([[1,22,333,4444],[54,65,76,87]])\n",
    "arr"
   ]
  },
  {
   "cell_type": "code",
   "execution_count": 5,
   "id": "6bbfc889",
   "metadata": {},
   "outputs": [
    {
     "data": {
      "text/plain": [
       "2"
      ]
     },
     "execution_count": 5,
     "metadata": {},
     "output_type": "execute_result"
    }
   ],
   "source": [
    "arr.ndim #dimention"
   ]
  },
  {
   "cell_type": "code",
   "execution_count": 6,
   "id": "d1c39416",
   "metadata": {},
   "outputs": [
    {
     "data": {
      "text/plain": [
       "(2, 4)"
      ]
     },
     "execution_count": 6,
     "metadata": {},
     "output_type": "execute_result"
    }
   ],
   "source": [
    "arr.shape #shape of array"
   ]
  },
  {
   "cell_type": "code",
   "execution_count": 7,
   "id": "03cddd87",
   "metadata": {},
   "outputs": [
    {
     "data": {
      "text/plain": [
       "numpy.ndarray"
      ]
     },
     "execution_count": 7,
     "metadata": {},
     "output_type": "execute_result"
    }
   ],
   "source": [
    "type(arr)"
   ]
  },
  {
   "cell_type": "code",
   "execution_count": 10,
   "id": "bb094db1",
   "metadata": {},
   "outputs": [
    {
     "data": {
      "text/plain": [
       "<memory at 0x00000232B0D0CC70>"
      ]
     },
     "execution_count": 10,
     "metadata": {},
     "output_type": "execute_result"
    }
   ],
   "source": [
    "arr.data #memory location"
   ]
  },
  {
   "cell_type": "markdown",
   "id": "952a8cc9",
   "metadata": {},
   "source": [
    "# Random Number Generator using numpy"
   ]
  },
  {
   "cell_type": "code",
   "execution_count": 22,
   "id": "2017caec",
   "metadata": {},
   "outputs": [
    {
     "data": {
      "text/plain": [
       "191"
      ]
     },
     "execution_count": 22,
     "metadata": {},
     "output_type": "execute_result"
    }
   ],
   "source": [
    "x = random.randint(1000)\n",
    "x"
   ]
  },
  {
   "cell_type": "code",
   "execution_count": 23,
   "id": "669c3c1b",
   "metadata": {},
   "outputs": [
    {
     "data": {
      "text/plain": [
       "array([0.7083476 , 0.67051568, 0.98015219, 0.19983178, 0.44635103,\n",
       "       0.31838538, 0.49543525])"
      ]
     },
     "execution_count": 23,
     "metadata": {},
     "output_type": "execute_result"
    }
   ],
   "source": [
    "x = random.rand(7)\n",
    "x"
   ]
  },
  {
   "cell_type": "code",
   "execution_count": 24,
   "id": "b3e5f11a",
   "metadata": {},
   "outputs": [
    {
     "data": {
      "text/plain": [
       "array([17,  9, 74, 79,  7])"
      ]
     },
     "execution_count": 24,
     "metadata": {},
     "output_type": "execute_result"
    }
   ],
   "source": [
    "x = random.randint(100, size=(5))\n",
    "x"
   ]
  },
  {
   "cell_type": "code",
   "execution_count": 25,
   "id": "7f864a85",
   "metadata": {},
   "outputs": [
    {
     "data": {
      "text/plain": [
       "array([[83, 63, 60, 18],\n",
       "       [34,  8, 37, 10],\n",
       "       [58, 47, 85, 78],\n",
       "       [ 5,  8, 36, 68],\n",
       "       [15, 95, 61, 55]])"
      ]
     },
     "execution_count": 25,
     "metadata": {},
     "output_type": "execute_result"
    }
   ],
   "source": [
    "x = random.randint(100, size=(5,4))\n",
    "x"
   ]
  },
  {
   "cell_type": "code",
   "execution_count": 29,
   "id": "369bd7c8",
   "metadata": {},
   "outputs": [
    {
     "name": "stdout",
     "output_type": "stream",
     "text": [
      "a = [19 35 17 38 15 42 12]\n",
      "b = [25  3 21 26 22 30 13]\n",
      "c = [44 38 38 64 37 72 25]\n"
     ]
    }
   ],
   "source": [
    "#a=1D array, with 7 integer\n",
    "#b=1D array, with 7 integer\n",
    "#math operation.\n",
    "\n",
    "a = random.randint(50, size=(7))\n",
    "print(\"a =\",a)\n",
    "b = random.randint(50, size=(7))\n",
    "print(\"b =\",b)\n",
    "\n",
    "c = a + b\n",
    "print(\"c =\",c)"
   ]
  },
  {
   "cell_type": "markdown",
   "id": "86df5c1d",
   "metadata": {},
   "source": [
    "# Matrix in Numpy"
   ]
  },
  {
   "cell_type": "code",
   "execution_count": 30,
   "id": "13f246dd",
   "metadata": {},
   "outputs": [
    {
     "data": {
      "text/plain": [
       "matrix([[1, 2],\n",
       "        [3, 4]])"
      ]
     },
     "execution_count": 30,
     "metadata": {},
     "output_type": "execute_result"
    }
   ],
   "source": [
    "a = np.matrix('1 2;3 4')\n",
    "a"
   ]
  },
  {
   "cell_type": "code",
   "execution_count": 31,
   "id": "b1c704a4",
   "metadata": {},
   "outputs": [
    {
     "data": {
      "text/plain": [
       "numpy.matrix"
      ]
     },
     "execution_count": 31,
     "metadata": {},
     "output_type": "execute_result"
    }
   ],
   "source": [
    "type(a)"
   ]
  },
  {
   "cell_type": "code",
   "execution_count": 33,
   "id": "6c9c6ed5",
   "metadata": {},
   "outputs": [
    {
     "data": {
      "text/plain": [
       "matrix([[1, 2, 3],\n",
       "        [4, 5, 6],\n",
       "        [7, 8, 9]])"
      ]
     },
     "execution_count": 33,
     "metadata": {},
     "output_type": "execute_result"
    }
   ],
   "source": [
    "b = np.matrix('1 2 3;4 5 6;7 8 9')\n",
    "b"
   ]
  },
  {
   "cell_type": "code",
   "execution_count": 35,
   "id": "0e6f267e",
   "metadata": {},
   "outputs": [
    {
     "data": {
      "text/plain": [
       "matrix([[5, 6, 7],\n",
       "        [4, 8, 3]])"
      ]
     },
     "execution_count": 35,
     "metadata": {},
     "output_type": "execute_result"
    }
   ],
   "source": [
    "c = np.matrix([[5, 6, 7], [4, 8 ,3]])\n",
    "c"
   ]
  },
  {
   "cell_type": "markdown",
   "id": "ea55c642",
   "metadata": {},
   "source": [
    "# Measure of Central Tendency"
   ]
  },
  {
   "cell_type": "code",
   "execution_count": 39,
   "id": "97486e4c",
   "metadata": {},
   "outputs": [
    {
     "data": {
      "text/plain": [
       "array([[ 1, 22, 33],\n",
       "       [ 5, 65, 87],\n",
       "       [ 5,  6,  2]])"
      ]
     },
     "execution_count": 39,
     "metadata": {},
     "output_type": "execute_result"
    }
   ],
   "source": [
    "arr = np.array([[1,22,33], [5,65,87], [5,6,2]])\n",
    "arr"
   ]
  },
  {
   "cell_type": "code",
   "execution_count": 40,
   "id": "b38dc8a9",
   "metadata": {},
   "outputs": [
    {
     "data": {
      "text/plain": [
       "1"
      ]
     },
     "execution_count": 40,
     "metadata": {},
     "output_type": "execute_result"
    }
   ],
   "source": [
    "#minimum value in array\n",
    "\n",
    "np.amin(arr)"
   ]
  },
  {
   "cell_type": "code",
   "execution_count": 41,
   "id": "99fb6687",
   "metadata": {},
   "outputs": [
    {
     "data": {
      "text/plain": [
       "87"
      ]
     },
     "execution_count": 41,
     "metadata": {},
     "output_type": "execute_result"
    }
   ],
   "source": [
    "#maximum value in array\n",
    "\n",
    "np.amax(arr)"
   ]
  },
  {
   "cell_type": "code",
   "execution_count": 43,
   "id": "91391f0c",
   "metadata": {},
   "outputs": [
    {
     "data": {
      "text/plain": [
       "25.11111111111111"
      ]
     },
     "execution_count": 43,
     "metadata": {},
     "output_type": "execute_result"
    }
   ],
   "source": [
    "#mean value in array\n",
    "\n",
    "np.mean(arr)"
   ]
  },
  {
   "cell_type": "code",
   "execution_count": 44,
   "id": "adfea542",
   "metadata": {},
   "outputs": [
    {
     "data": {
      "text/plain": [
       "6.0"
      ]
     },
     "execution_count": 44,
     "metadata": {},
     "output_type": "execute_result"
    }
   ],
   "source": [
    "#median value in array\n",
    "\n",
    "np.median(arr)"
   ]
  },
  {
   "cell_type": "code",
   "execution_count": 45,
   "id": "020cbe57",
   "metadata": {},
   "outputs": [
    {
     "data": {
      "text/plain": [
       "29.40689429536491"
      ]
     },
     "execution_count": 45,
     "metadata": {},
     "output_type": "execute_result"
    }
   ],
   "source": [
    "#standard deviation value in array\n",
    "\n",
    "np.std(arr)"
   ]
  },
  {
   "cell_type": "code",
   "execution_count": 47,
   "id": "cd169eec",
   "metadata": {},
   "outputs": [
    {
     "data": {
      "text/plain": [
       "864.7654320987654"
      ]
     },
     "execution_count": 47,
     "metadata": {},
     "output_type": "execute_result"
    }
   ],
   "source": [
    "#variance value in array\n",
    "\n",
    "np.var(arr)"
   ]
  },
  {
   "cell_type": "code",
   "execution_count": null,
   "id": "27661239",
   "metadata": {},
   "outputs": [],
   "source": []
  }
 ],
 "metadata": {
  "kernelspec": {
   "display_name": "Python 3 (ipykernel)",
   "language": "python",
   "name": "python3"
  },
  "language_info": {
   "codemirror_mode": {
    "name": "ipython",
    "version": 3
   },
   "file_extension": ".py",
   "mimetype": "text/x-python",
   "name": "python",
   "nbconvert_exporter": "python",
   "pygments_lexer": "ipython3",
   "version": "3.9.12"
  }
 },
 "nbformat": 4,
 "nbformat_minor": 5
}
